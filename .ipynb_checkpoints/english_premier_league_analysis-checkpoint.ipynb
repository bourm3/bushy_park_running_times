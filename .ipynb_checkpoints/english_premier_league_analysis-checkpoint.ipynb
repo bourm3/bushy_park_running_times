{
 "cells": [
  {
   "cell_type": "markdown",
   "metadata": {},
   "source": [
    "# How to Win the English Premier League: \n",
    "## Characteristic of Success, Using Data from 28 years of the Premiership\n",
    "\n",
    "Michael Bourne - Nov/Dec 2020\n"
   ]
  },
  {
   "cell_type": "markdown",
   "metadata": {},
   "source": [
    "## Introduction\n",
    "\n",
    "The English Premier League is the most popular national footballing competition in the world, available to watch worldwide by upto 4.7 billion people [1]. It was initially set up in 1992 following a break-away from the English National First Divsion in response to a tv offer from BSkyB (now Sky) [2]. \n",
    "\n",
    "Seasons run from August to May the following calendar year, with each team playing a total of 38 matches. Teams receive three points for a win, one point for a draw but no points are awarded for a loss. Teams are ranked in order of points won. If two teams have the same number of points, then the difference between goals scored and conceeded (the goal difference) is used to rank the teams in the league table. The current 20 team league was introduced in 1995. For the first 3 seasons there were 22 teams, placing a total of 42 matches.\n",
    "\n",
    "Attending football matches has been a popular past-time since the league was created, with most Premiership league games having full capacity. Income from people attending football matches is a crucial element of the financing of the modern football club.\n",
    "\n",
    "Baker and McHale (2015)[3] have previously hailed Manchester United as the best team in the Premiership.\n",
    "\n",
    "\n",
    "## Aim\n",
    "\n",
    "This study aims to analyse data from the 1992/3 season upto the most recent one, to understand what makes a Premership winning team.\n",
    "\n",
    "\n",
    "In particular;\n",
    "  \n",
    "  (a) Do some teams consistently do better than others? \n",
    "  \n",
    "      (i) Which team has won most often?\n",
    "      (ii) Do some teams really dominant the top of the table?\n",
    "      (iii) Which team has scored the most goals? And which has conceeded the most?\n",
    "      \n",
    "  (b) Is there a particular characteristic for the winning team?\n",
    "  \n",
    "      (i) Whats the points threshold to win?\n",
    "      (ii) Whats are the average statistics for the winning team?   \n",
    "      (iii) Is there a relationship between the size of a teams stadium and position in the league table?\n",
    "\n",
    "          \n",
    "  (c) Do the results of a team in the season prior to a winning Premiership, give clues to the success which will subsequently follow?\n",
    "  \n",
    "      (i) Are teams near the top of the league in the proceeding year?\n",
    "      (ii) Do teams increase the number of goals being scored and/or decrease the number of goals let in.\n",
    "  \n",
    "  \n",
    "This study could be useful for betting companies, who are determining the odds to place on teams winning the league in any given year. It will also be of interest to football fans who are looking for some new stats to impress their friends!.\n",
    "\n",
    "\n",
    "## Database\n",
    "This project is going to scrap data from the fbref.com website. I'm going to take a look at the English Premier League final table from 1992/3 upto the most recent season (2019/20), a total of 28 seasons.\n",
    "\n",
    "Heres a link to the stats for the 2019/20 Premier League:\n",
    "\n",
    "https://fbref.com/en/comps/9/3232/2019-2020-Premier-League-Stats\n",
    "\n",
    "The webpage contains a table of results for the league consisting of the following columns.These will be used in this study. \n",
    "\n",
    "        (a) Rk\t    - Rank of team\n",
    "        (b) Squad\t- Name of team\n",
    "        (c) MP\t- Number of points won during the season\n",
    "        (d) W\t- number of games won\n",
    "        (e) D\t- number of games drawn\n",
    "        (f) L\t- number of games loss\n",
    "        (g) GF\t- Goals scored\n",
    "        (h) GA\t- Goals conceeded\n",
    "        (i) GDiff\t- Goal difference (GF-GA)\n",
    "        (j) Pts\tAttendance\t- Average attendance at home matches\n",
    "        (k) Top Team Scorer\t- Name of the top goal scorer(s) and number of goals scored\n",
    "        (l) Goalkeeper\t- Name of the goal keeper with the most appearances\n",
    "        (m) Notes - e.g. did the team get a place in the UEFA Champions League\n",
    "\n",
    "## Techniques Used in this Project\n",
    "\n",
    "During this project I intend to use the following techniques and approaches as learnt in the Python Data Programming course at the University of London.\n",
    "\n",
    "    (1) using Jupyter notebook and python\n",
    "    (2) numpy for calculating statistics,eg. np.mean()\n",
    "    (3) Using dictionaries, lists.\n",
    "    (4) Writing Data out to a csv file \n",
    "    (5) Web scrapping - using bs4.\n",
    "    (6) SQL database creation and quirys - using sqlite3\n",
    "    (7) Data processing, using RegEx\n",
    "    (8) Creating data piplines.\n",
    "    (x) Pandas, including merging dataframes \n",
    "    (9) visualisation using matplotlib and seaborn\n",
    "    \n",
    "    In terms of additional skills which have been used in this project but not covered \n",
    "    during the course;\n",
    "    \n",
    "    (x) creation and use of functions.\n",
    "    (x) use of seaborn for some of the data plotting.\n",
    "    (x) use of sqlite.\n"
   ]
  },
  {
   "cell_type": "markdown",
   "metadata": {},
   "source": [
    "## (1) Acquition and Manipulating of the Data\n",
    "\n",
    "### Scraping the Required Data from the Website\n",
    "\n",
    "I use BeautifulSoup[4] to do the data extraction from the website. \n",
    "\n",
    "I loop through one webpage for each of the 28 seasons ('year'). For each webpage I extract the source code for that season as a variable called 'soup'\n",
    "\n",
    "From the captured source code ('soup'), I find the records for all the individual teams taking part in that given season and ascribe this to the variable, 'all_records'. "
   ]
  },
  {
   "cell_type": "markdown",
   "metadata": {},
   "source": [
    "### Data Manipulation in Python\n",
    "\n",
    "Once I have the records captured from the website ('all_records'), I next extract the details for each team from this soup and use this information to create a dictionary containing the data for each team. \n",
    "\n",
    "I will use a variety of methods to extract the data from the soup, including using regular expressions and the html tags.\n",
    "\n",
    "Once data is captured in the dictionary for a particular team in a particular season (variable 'data'), I will then add this entry to an ongoing list which is storing data for all teams across all seasons (called 'teams').\n",
    "\n",
    "Finally, I acquire the URL for the proceeding seasons from the soup and use this information on the next iteration through 'year'."
   ]
  },
  {
   "cell_type": "code",
   "execution_count": 312,
   "metadata": {},
   "outputs": [
    {
     "name": "stdout",
     "output_type": "stream",
     "text": [
      "loading season  2019-2020\n",
      "loading season  2018-2019\n",
      "loading season  2017-2018\n",
      "loading season  2016-2017\n",
      "loading season  2015-2016\n",
      "loading season  2014-2015\n",
      "loading season  2013-2014\n",
      "loading season  2012-2013\n",
      "loading season  2011-2012\n",
      "loading season  2010-2011\n",
      "loading season  2009-2010\n",
      "loading season  2008-2009\n",
      "loading season  2007-2008\n",
      "loading season  2006-2007\n",
      "loading season  2005-2006\n",
      "loading season  2004-2005\n",
      "loading season  2003-2004\n",
      "loading season  2002-2003\n",
      "loading season  2001-2002\n",
      "loading season  2000-2001\n",
      "loading season  1999-2000\n",
      "loading season  1998-1999\n",
      "loading season  1997-1998\n",
      "loading season  1996-1997\n",
      "loading season  1995-1996\n",
      "loading season  1994-1995\n",
      "loading season  1993-1994\n",
      "loading season  1992-1993\n"
     ]
    }
   ],
   "source": [
    "import re\n",
    "import requests\n",
    "from bs4 import BeautifulSoup\n",
    "\n",
    "#create list to store all team data across all seasons\n",
    "teams = []\n",
    "\n",
    "#Set initial webpage for 2019/20 season and number of teams in the league\n",
    "webaddress = '/en/comps/9/3232/2019-2020-Premier-League-Stats'\n",
    "no_teams = 20\n",
    "\n",
    "#Next, loop through each seasons one by one\n",
    "for year in range(28):\n",
    "    print('loading season:',re.findall('[1-2][9012][0-9][0-9]-[1-2][9012][0-9][0-9]',webaddress)[0]) #provides info to user during the laoding the data\n",
    "    \n",
    "    #set name of the required website for this seasons (startinf with the 2019/20 and proceeding backwards)\n",
    "    webpage = requests.get('https://fbref.com' + webaddress, headers={'User-agent': 'Mozilla/5.0 (X11; Ubuntu; Linux x86_64; rv:61.0) Gecko/20100101 Firefox/61.0'})\n",
    "    web_content = webpage.content\n",
    "    \n",
    "    #Use BeautifulSoup to extract the code from the website, placing into the varibale 'soup'\n",
    "    soup = BeautifulSoup(web_content,\"html.parser\")\n",
    "    \n",
    "    #find the table of data from the webpage, and then extact all the records ('all_records')\n",
    "    table=soup.find('tbody')\n",
    "    all_records = table.find_all('tr')\n",
    " \n",
    "    #obtain the season that these record are refering to, using re function, place into varibale 'season'\n",
    "    season = int(re.findall('[1-2][9012][0-9][0-9]-[1-2][9012][0-9][0-9]',str(all_records[0]))[0][0:4])\n",
    "    \n",
    "    #change the number of teams to 22 if the season is 1994/5 or earlier\n",
    "    if (season < 1995): \n",
    "        no_teams = 22\n",
    "        \n",
    "    #loop through all_records, corresponding for one for each team\n",
    "    for i in range(0,no_teams):\n",
    "\n",
    "        #create a dictionary for this particular team, called 'data'\n",
    "        data = {}\n",
    " \n",
    "        #record season as a key, and the season variable as the value\n",
    "        data['season'] = season\n",
    "    \n",
    "        #for each entry put relevant data into the dictionary\n",
    "        data['rank'] = int(all_records[i].find('th',{'data-stat':'rank'}).text)\n",
    "        data['team'] = all_records[i].find('td',{'data-stat':'squad'}).text\n",
    "        data['games'] = all_records[i].find('td',{'data-stat':'games'}).text\n",
    "        data['wins'] = all_records[i].find('td',{'data-stat':'wins'}).text\n",
    "        data['losses'] = all_records[i].find('td',{'data-stat':'losses'}).text\n",
    "        data['draws'] = all_records[i].find('td',{'data-stat':'draws'}).text\n",
    "        data['goals_for'] = all_records[i].find('td',{'data-stat':'goals_for'}).text\n",
    "        data['goals_against'] = all_records[i].find('td',{'data-stat':'goals_against'}).text\n",
    "        data['goal_diff'] = all_records[i].find('td',{'data-stat':'goal_diff'}).text\n",
    "        data['points'] = int(all_records[i].find('td',{'data-stat':'points'}).text)\n",
    "        try:\n",
    "            data['xg_for'] = all_records[i].find('td',{'data-stat':'xg_for'}).text\n",
    "            data['xg_against'] = all_records[i].find('td',{'data-stat':'xg_against'}).text\n",
    "            data['xg_diff'] = all_records[i].find('td',{'data-stat':'xg_diff'}).text\n",
    "            data['xg_diff_per90'] = all_records[i].find('td',{'data-stat':'xg_diff_per90'}).text\n",
    "        except:\n",
    "            pass\n",
    "        data['av_attendance'] = all_records[i].find('td',{'data-stat':'attendance_per_g'}).text\n",
    "\n",
    "        #The teams top scorer plus the number of goals he scored are combined in the original source code,\n",
    "        #Will split these two varibal;es out, i.e. (i) just the top scorer and (ii) the number of goals scored\n",
    "        top_team_scorers = all_records[i].find('td',{'data-stat':'top_team_scorers'}).text\n",
    "        try:\n",
    "            data['top_scorer'] = re.findall('[A-Za-zé]+ [A-Za-z]+',str(top_team_scorers))[0]\n",
    "        except:\n",
    "            pass\n",
    "        \n",
    "        data['top_scorer_goals'] = re.findall('[0-9]+',str(top_team_scorers))[0]\n",
    "\n",
    "        data['top_keeper'] = all_records[i].find('td',{'data-stat':'top_keeper'}).text\n",
    "\n",
    "        #The notes category contains information on who qualified for the UEFA champions league, Europa cup etc\n",
    "        #will use a function, called 'notes_convert', to turn this into a category dataset\n",
    "        #to do....\n",
    "        data['notes'] = all_records[i].find('td',{'data-stat':'notes'}).text\n",
    "\n",
    "        #finally create a uniqueid ('id') combining the season with the team name\n",
    "        data['id'] = str(season) + all_records[i].find('td',{'data-stat':'squad'}).text\n",
    "        #and add a corresponding id for this team in the previous seasons\n",
    "        data['previous_season_id'] = str(season-1) + all_records[i].find('td',{'data-stat':'squad'}).text\n",
    "    \n",
    "        #Add this dictionary to the ongoing list ('teams') of all teams across all seasons \n",
    "        teams.append(data)\n",
    "\n",
    "    #finally, obtain the  URL for the previous sessions data, and assign it to the 'webaddress' variable \n",
    "    # ready to be used in the next loop of 'year' for locating the correct http address\n",
    "    prev_session = soup.find_all('a',{'class':\"button2 prev\"})\n",
    "    webaddress = str(re.findall(r'\"[0-9A-Za-z/-]+\"',str(prev_session)))[3:-3]  \n"
   ]
  },
  {
   "cell_type": "markdown",
   "metadata": {},
   "source": [
    "### Creation of a Pandas Dataframe\n",
    "\n",
    "I am going to use the Pandas package[5] to carry out much of my raw data visualisation. To do this I import the pandas library package as pd."
   ]
  },
  {
   "cell_type": "code",
   "execution_count": 313,
   "metadata": {},
   "outputs": [],
   "source": [
    "import pandas as pd"
   ]
  },
  {
   "cell_type": "markdown",
   "metadata": {},
   "source": [
    "Next, I create a panda dataframe, df, using my 'teams' list. I write out this formated dataframe to a csv file. \n"
   ]
  },
  {
   "cell_type": "code",
   "execution_count": 314,
   "metadata": {},
   "outputs": [
    {
     "data": {
      "text/html": [
       "<div>\n",
       "<style scoped>\n",
       "    .dataframe tbody tr th:only-of-type {\n",
       "        vertical-align: middle;\n",
       "    }\n",
       "\n",
       "    .dataframe tbody tr th {\n",
       "        vertical-align: top;\n",
       "    }\n",
       "\n",
       "    .dataframe thead th {\n",
       "        text-align: right;\n",
       "    }\n",
       "</style>\n",
       "<table border=\"1\" class=\"dataframe\">\n",
       "  <thead>\n",
       "    <tr style=\"text-align: right;\">\n",
       "      <th></th>\n",
       "      <th>season</th>\n",
       "      <th>rank</th>\n",
       "      <th>team</th>\n",
       "      <th>games</th>\n",
       "      <th>wins</th>\n",
       "      <th>losses</th>\n",
       "      <th>draws</th>\n",
       "      <th>goals_for</th>\n",
       "      <th>goals_against</th>\n",
       "      <th>goal_diff</th>\n",
       "      <th>...</th>\n",
       "      <th>xg_against</th>\n",
       "      <th>xg_diff</th>\n",
       "      <th>xg_diff_per90</th>\n",
       "      <th>av_attendance</th>\n",
       "      <th>top_scorer</th>\n",
       "      <th>top_scorer_goals</th>\n",
       "      <th>top_keeper</th>\n",
       "      <th>notes</th>\n",
       "      <th>id</th>\n",
       "      <th>previous_season_id</th>\n",
       "    </tr>\n",
       "  </thead>\n",
       "  <tbody>\n",
       "    <tr>\n",
       "      <th>0</th>\n",
       "      <td>2019</td>\n",
       "      <td>1</td>\n",
       "      <td>Liverpool</td>\n",
       "      <td>38</td>\n",
       "      <td>32</td>\n",
       "      <td>3</td>\n",
       "      <td>3</td>\n",
       "      <td>85</td>\n",
       "      <td>33</td>\n",
       "      <td>+52</td>\n",
       "      <td>...</td>\n",
       "      <td>40.0</td>\n",
       "      <td>+31.5</td>\n",
       "      <td>+0.83</td>\n",
       "      <td>41,955</td>\n",
       "      <td>Mohamed Salah</td>\n",
       "      <td>19</td>\n",
       "      <td>Alisson</td>\n",
       "      <td>→ UEFA Champions League via league finish</td>\n",
       "      <td>2019 Liverpool</td>\n",
       "      <td>2018 Liverpool</td>\n",
       "    </tr>\n",
       "    <tr>\n",
       "      <th>1</th>\n",
       "      <td>2019</td>\n",
       "      <td>2</td>\n",
       "      <td>Manchester City</td>\n",
       "      <td>38</td>\n",
       "      <td>26</td>\n",
       "      <td>9</td>\n",
       "      <td>3</td>\n",
       "      <td>102</td>\n",
       "      <td>35</td>\n",
       "      <td>+67</td>\n",
       "      <td>...</td>\n",
       "      <td>34.7</td>\n",
       "      <td>+58.3</td>\n",
       "      <td>+1.53</td>\n",
       "      <td>37,097</td>\n",
       "      <td>Raheem Sterling</td>\n",
       "      <td>20</td>\n",
       "      <td>Ederson</td>\n",
       "      <td>→ UEFA Champions League via league finish</td>\n",
       "      <td>2019 Manchester City</td>\n",
       "      <td>2018 Manchester City</td>\n",
       "    </tr>\n",
       "    <tr>\n",
       "      <th>2</th>\n",
       "      <td>2019</td>\n",
       "      <td>3</td>\n",
       "      <td>Manchester Utd</td>\n",
       "      <td>38</td>\n",
       "      <td>18</td>\n",
       "      <td>8</td>\n",
       "      <td>12</td>\n",
       "      <td>66</td>\n",
       "      <td>36</td>\n",
       "      <td>+30</td>\n",
       "      <td>...</td>\n",
       "      <td>37.4</td>\n",
       "      <td>+22.0</td>\n",
       "      <td>+0.58</td>\n",
       "      <td>57,415</td>\n",
       "      <td>Marcus Rashford</td>\n",
       "      <td>17</td>\n",
       "      <td>David de Gea</td>\n",
       "      <td>→ UEFA Champions League via league finish</td>\n",
       "      <td>2019 Manchester Utd</td>\n",
       "      <td>2018 Manchester Utd</td>\n",
       "    </tr>\n",
       "  </tbody>\n",
       "</table>\n",
       "<p>3 rows × 22 columns</p>\n",
       "</div>"
      ],
      "text/plain": [
       "   season  rank              team games wins losses draws goals_for  \\\n",
       "0    2019     1         Liverpool    38   32      3     3        85   \n",
       "1    2019     2   Manchester City    38   26      9     3       102   \n",
       "2    2019     3    Manchester Utd    38   18      8    12        66   \n",
       "\n",
       "  goals_against goal_diff  ...  xg_against xg_diff xg_diff_per90  \\\n",
       "0            33       +52  ...        40.0   +31.5         +0.83   \n",
       "1            35       +67  ...        34.7   +58.3         +1.53   \n",
       "2            36       +30  ...        37.4   +22.0         +0.58   \n",
       "\n",
       "  av_attendance       top_scorer top_scorer_goals    top_keeper  \\\n",
       "0        41,955    Mohamed Salah               19       Alisson   \n",
       "1        37,097  Raheem Sterling               20       Ederson   \n",
       "2        57,415  Marcus Rashford               17  David de Gea   \n",
       "\n",
       "                                       notes                    id  \\\n",
       "0  → UEFA Champions League via league finish        2019 Liverpool   \n",
       "1  → UEFA Champions League via league finish  2019 Manchester City   \n",
       "2  → UEFA Champions League via league finish   2019 Manchester Utd   \n",
       "\n",
       "     previous_season_id  \n",
       "0        2018 Liverpool  \n",
       "1  2018 Manchester City  \n",
       "2   2018 Manchester Utd  \n",
       "\n",
       "[3 rows x 22 columns]"
      ]
     },
     "execution_count": 314,
     "metadata": {},
     "output_type": "execute_result"
    }
   ],
   "source": [
    "#convert the athlete_list to a panda dataframe\n",
    "import pandas as pd\n",
    "df = pd.DataFrame(teams)\n",
    "\n",
    "#write-out pandas dataframe to a csv file.\n",
    "df.to_csv(\"teams_database.csv\")\n",
    "#display the top 3 entries from the 2019/20 season to check the resulting DataFrame.\n",
    "df[df['season'] == 2019].head(3)"
   ]
  },
  {
   "cell_type": "markdown",
   "metadata": {},
   "source": [
    "### Database Cleaning \n",
    "\n",
    "In the next section, I'm examine the database in more detail and clean-up the database where required.\n",
    "\n",
    "I'm going to use matplotlib[ref], seaborn(ref) and numpy[ref] for both visualing the database and also for later analysis"
   ]
  },
  {
   "cell_type": "code",
   "execution_count": 315,
   "metadata": {},
   "outputs": [],
   "source": [
    "import numpy as np\n",
    "import matplotlib.pyplot as plt\n",
    "import seaborn as sns\n",
    "%matplotlib inline"
   ]
  },
  {
   "cell_type": "markdown",
   "metadata": {},
   "source": [
    "First, I create a heatmap to see how much data is present or missing during data capture"
   ]
  },
  {
   "cell_type": "code",
   "execution_count": 316,
   "metadata": {},
   "outputs": [
    {
     "data": {
      "text/plain": [
       "<AxesSubplot:>"
      ]
     },
     "execution_count": 316,
     "metadata": {},
     "output_type": "execute_result"
    },
    {
     "data": {
      "image/png": "[encoded data removed]",
      "text/plain": [
       "<Figure size 432x288 with 1 Axes>"
      ]
     },
     "metadata": {
      "needs_background": "light"
     },
     "output_type": "display_data"
    }
   ],
   "source": [
    "sns.heatmap(df.isnull(),yticklabels=False,cbar=False,cmap='viridis')"
   ]
  },
  {
   "cell_type": "markdown",
   "metadata": {},
   "source": [
    "Four of the variables have only been captured in recent seasons (e.g. xg_for), I will thus drop these fields from my data-frame. \n",
    "\n",
    "A couple of top_scorers data is also missing but this is not significant so will keep this column."
   ]
  },
  {
   "cell_type": "code",
   "execution_count": 317,
   "metadata": {},
   "outputs": [],
   "source": [
    "df.drop(['xg_for','xg_against','xg_diff','xg_diff_per90'], axis=1, inplace=True)"
   ]
  },
  {
   "cell_type": "code",
   "execution_count": 357,
   "metadata": {},
   "outputs": [
    {
     "data": {
      "text/plain": [
       "<AxesSubplot:>"
      ]
     },
     "execution_count": 357,
     "metadata": {},
     "output_type": "execute_result"
    },
    {
     "data": {
      "image/png": "[encoded data removed]",
      "text/plain": [
       "<Figure size 432x288 with 1 Axes>"
      ]
     },
     "metadata": {
      "needs_background": "light"
     },
     "output_type": "display_data"
    }
   ],
   "source": [
    "#replot headmap to see any remaining null values\n",
    "sns.heatmap(df.isnull(),yticklabels=False,cbar=False,cmap='viridis')"
   ]
  },
  {
   "cell_type": "markdown",
   "metadata": {},
   "source": [
    "Next, I'm going to convert variables where required within my Panda dataframe and also create some new average varibles"
   ]
  },
  {
   "cell_type": "code",
   "execution_count": 319,
   "metadata": {},
   "outputs": [],
   "source": [
    "# remove ','s from \n",
    "df['av_attendance'] = df['av_attendance'].str.replace(',','')\n",
    "\n",
    "\n",
    "#convert  variables which are numerical in nature but currently stored as strings to intergers\n",
    "df['games'] = df['games'].astype(int)\n",
    "df['wins'] = df['wins'].astype(int)\n",
    "df['losses'] = df['losses'].astype(int)\n",
    "df['draws'] = df['draws'].astype(int)\n",
    "df['goals_for'] = df['goals_for'].astype(int)\n",
    "df['goals_against'] = df['goals_against'].astype(int)\n",
    "df['goal_diff'] = df['goal_diff'].astype(int)\n",
    "df['av_attendance'] = df['av_attendance'].astype(int)\n",
    "df['top_scorer_goals'] = df['top_scorer_goals'].astype(int)\n",
    "\n",
    "#create average varibles (to reflect that the first 3 seasons had more games [42] than the more recent [38])\n",
    "df['win%'] = df['wins']/df['games']*100.0\n",
    "df['losses%'] = df['losses']/df['games']*100.0\n",
    "df['draws%'] = df['draws']/df['games']*100.0\n",
    "df['av_points_game'] = df['points']/df['games']\n",
    "df['av_goals_for_game'] = df['goals_for']/df['games']\n",
    "df['av_goal_diff'] = df['goal_diff']/df['games']\n",
    "df['av_goals_against_game'] = df['goals_against']/df['games']\n",
    "df['av_top_scorer_goals'] = df['top_scorer_goals']/df['games']\n"
   ]
  },
  {
   "cell_type": "code",
   "execution_count": 325,
   "metadata": {},
   "outputs": [
    {
     "data": {
      "text/html": [
       "<div>\n",
       "<style scoped>\n",
       "    .dataframe tbody tr th:only-of-type {\n",
       "        vertical-align: middle;\n",
       "    }\n",
       "\n",
       "    .dataframe tbody tr th {\n",
       "        vertical-align: top;\n",
       "    }\n",
       "\n",
       "    .dataframe thead th {\n",
       "        text-align: right;\n",
       "    }\n",
       "</style>\n",
       "<table border=\"1\" class=\"dataframe\">\n",
       "  <thead>\n",
       "    <tr style=\"text-align: right;\">\n",
       "      <th></th>\n",
       "      <th>season</th>\n",
       "      <th>rank</th>\n",
       "      <th>team</th>\n",
       "      <th>wins</th>\n",
       "      <th>losses</th>\n",
       "      <th>draws</th>\n",
       "      <th>points</th>\n",
       "      <th>goals_for</th>\n",
       "      <th>goals_against</th>\n",
       "      <th>av_attendance</th>\n",
       "      <th>top_scorer_goals</th>\n",
       "    </tr>\n",
       "  </thead>\n",
       "  <tbody>\n",
       "    <tr>\n",
       "      <th>0</th>\n",
       "      <td>2019</td>\n",
       "      <td>1</td>\n",
       "      <td>Liverpool</td>\n",
       "      <td>32</td>\n",
       "      <td>3</td>\n",
       "      <td>3</td>\n",
       "      <td>99</td>\n",
       "      <td>85</td>\n",
       "      <td>33</td>\n",
       "      <td>41955</td>\n",
       "      <td>19</td>\n",
       "    </tr>\n",
       "    <tr>\n",
       "      <th>1</th>\n",
       "      <td>2019</td>\n",
       "      <td>2</td>\n",
       "      <td>Manchester City</td>\n",
       "      <td>26</td>\n",
       "      <td>9</td>\n",
       "      <td>3</td>\n",
       "      <td>81</td>\n",
       "      <td>102</td>\n",
       "      <td>35</td>\n",
       "      <td>37097</td>\n",
       "      <td>20</td>\n",
       "    </tr>\n",
       "    <tr>\n",
       "      <th>2</th>\n",
       "      <td>2019</td>\n",
       "      <td>3</td>\n",
       "      <td>Manchester Utd</td>\n",
       "      <td>18</td>\n",
       "      <td>8</td>\n",
       "      <td>12</td>\n",
       "      <td>66</td>\n",
       "      <td>66</td>\n",
       "      <td>36</td>\n",
       "      <td>57415</td>\n",
       "      <td>17</td>\n",
       "    </tr>\n",
       "  </tbody>\n",
       "</table>\n",
       "</div>"
      ],
      "text/plain": [
       "   season  rank              team  wins  losses  draws  points  goals_for  \\\n",
       "0    2019     1         Liverpool    32       3      3      99         85   \n",
       "1    2019     2   Manchester City    26       9      3      81        102   \n",
       "2    2019     3    Manchester Utd    18       8     12      66         66   \n",
       "\n",
       "   goals_against  av_attendance  top_scorer_goals  \n",
       "0             33          41955                19  \n",
       "1             35          37097                20  \n",
       "2             36          57415                17  "
      ]
     },
     "execution_count": 325,
     "metadata": {},
     "output_type": "execute_result"
    }
   ],
   "source": [
    "#re-displaying the top 3 entries from the 2019/20 season.\n",
    "columns = ['season','rank','team','wins','losses','draws','points','goals_for','goals_against','av_attendance', 'top_scorer_goals']\n",
    "df[df['season'] == 2019][columns].head(3)"
   ]
  },
  {
   "cell_type": "code",
   "execution_count": 329,
   "metadata": {
    "scrolled": false
   },
   "outputs": [
    {
     "data": {
      "text/html": [
       "<div>\n",
       "<style scoped>\n",
       "    .dataframe tbody tr th:only-of-type {\n",
       "        vertical-align: middle;\n",
       "    }\n",
       "\n",
       "    .dataframe tbody tr th {\n",
       "        vertical-align: top;\n",
       "    }\n",
       "\n",
       "    .dataframe thead th {\n",
       "        text-align: right;\n",
       "    }\n",
       "</style>\n",
       "<table border=\"1\" class=\"dataframe\">\n",
       "  <thead>\n",
       "    <tr style=\"text-align: right;\">\n",
       "      <th></th>\n",
       "      <th>season</th>\n",
       "      <th>rank</th>\n",
       "      <th>wins</th>\n",
       "      <th>losses</th>\n",
       "      <th>draws</th>\n",
       "      <th>points</th>\n",
       "      <th>goals_for</th>\n",
       "      <th>goals_against</th>\n",
       "      <th>av_attendance</th>\n",
       "      <th>top_scorer_goals</th>\n",
       "    </tr>\n",
       "  </thead>\n",
       "  <tbody>\n",
       "    <tr>\n",
       "      <th>count</th>\n",
       "      <td>566.000000</td>\n",
       "      <td>566.000000</td>\n",
       "      <td>566.000000</td>\n",
       "      <td>566.000000</td>\n",
       "      <td>566.000000</td>\n",
       "      <td>566.000000</td>\n",
       "      <td>566.000000</td>\n",
       "      <td>566.000000</td>\n",
       "      <td>566.000000</td>\n",
       "      <td>566.000000</td>\n",
       "    </tr>\n",
       "    <tr>\n",
       "      <th>mean</th>\n",
       "      <td>2005.367491</td>\n",
       "      <td>10.616608</td>\n",
       "      <td>14.217314</td>\n",
       "      <td>14.217314</td>\n",
       "      <td>10.031802</td>\n",
       "      <td>52.662544</td>\n",
       "      <td>51.049470</td>\n",
       "      <td>51.049470</td>\n",
       "      <td>32614.938163</td>\n",
       "      <td>13.109541</td>\n",
       "    </tr>\n",
       "    <tr>\n",
       "      <th>std</th>\n",
       "      <td>8.143792</td>\n",
       "      <td>5.850619</td>\n",
       "      <td>5.651888</td>\n",
       "      <td>5.308912</td>\n",
       "      <td>2.938131</td>\n",
       "      <td>16.223251</td>\n",
       "      <td>14.652954</td>\n",
       "      <td>12.703885</td>\n",
       "      <td>13375.877920</td>\n",
       "      <td>5.679837</td>\n",
       "    </tr>\n",
       "    <tr>\n",
       "      <th>min</th>\n",
       "      <td>1992.000000</td>\n",
       "      <td>1.000000</td>\n",
       "      <td>1.000000</td>\n",
       "      <td>0.000000</td>\n",
       "      <td>2.000000</td>\n",
       "      <td>11.000000</td>\n",
       "      <td>20.000000</td>\n",
       "      <td>15.000000</td>\n",
       "      <td>7745.000000</td>\n",
       "      <td>3.000000</td>\n",
       "    </tr>\n",
       "    <tr>\n",
       "      <th>25%</th>\n",
       "      <td>1998.000000</td>\n",
       "      <td>6.000000</td>\n",
       "      <td>10.000000</td>\n",
       "      <td>10.000000</td>\n",
       "      <td>8.000000</td>\n",
       "      <td>41.000000</td>\n",
       "      <td>41.000000</td>\n",
       "      <td>43.000000</td>\n",
       "      <td>23564.000000</td>\n",
       "      <td>9.000000</td>\n",
       "    </tr>\n",
       "    <tr>\n",
       "      <th>50%</th>\n",
       "      <td>2005.000000</td>\n",
       "      <td>11.000000</td>\n",
       "      <td>13.000000</td>\n",
       "      <td>15.000000</td>\n",
       "      <td>10.000000</td>\n",
       "      <td>50.000000</td>\n",
       "      <td>48.000000</td>\n",
       "      <td>51.000000</td>\n",
       "      <td>30520.000000</td>\n",
       "      <td>12.000000</td>\n",
       "    </tr>\n",
       "    <tr>\n",
       "      <th>75%</th>\n",
       "      <td>2012.000000</td>\n",
       "      <td>16.000000</td>\n",
       "      <td>18.000000</td>\n",
       "      <td>18.000000</td>\n",
       "      <td>12.000000</td>\n",
       "      <td>63.000000</td>\n",
       "      <td>59.000000</td>\n",
       "      <td>59.000000</td>\n",
       "      <td>39046.000000</td>\n",
       "      <td>16.000000</td>\n",
       "    </tr>\n",
       "    <tr>\n",
       "      <th>max</th>\n",
       "      <td>2019.000000</td>\n",
       "      <td>22.000000</td>\n",
       "      <td>32.000000</td>\n",
       "      <td>29.000000</td>\n",
       "      <td>18.000000</td>\n",
       "      <td>100.000000</td>\n",
       "      <td>106.000000</td>\n",
       "      <td>100.000000</td>\n",
       "      <td>75826.000000</td>\n",
       "      <td>34.000000</td>\n",
       "    </tr>\n",
       "  </tbody>\n",
       "</table>\n",
       "</div>"
      ],
      "text/plain": [
       "            season        rank        wins      losses       draws  \\\n",
       "count   566.000000  566.000000  566.000000  566.000000  566.000000   \n",
       "mean   2005.367491   10.616608   14.217314   14.217314   10.031802   \n",
       "std       8.143792    5.850619    5.651888    5.308912    2.938131   \n",
       "min    1992.000000    1.000000    1.000000    0.000000    2.000000   \n",
       "25%    1998.000000    6.000000   10.000000   10.000000    8.000000   \n",
       "50%    2005.000000   11.000000   13.000000   15.000000   10.000000   \n",
       "75%    2012.000000   16.000000   18.000000   18.000000   12.000000   \n",
       "max    2019.000000   22.000000   32.000000   29.000000   18.000000   \n",
       "\n",
       "           points   goals_for  goals_against  av_attendance  top_scorer_goals  \n",
       "count  566.000000  566.000000     566.000000     566.000000        566.000000  \n",
       "mean    52.662544   51.049470      51.049470   32614.938163         13.109541  \n",
       "std     16.223251   14.652954      12.703885   13375.877920          5.679837  \n",
       "min     11.000000   20.000000      15.000000    7745.000000          3.000000  \n",
       "25%     41.000000   41.000000      43.000000   23564.000000          9.000000  \n",
       "50%     50.000000   48.000000      51.000000   30520.000000         12.000000  \n",
       "75%     63.000000   59.000000      59.000000   39046.000000         16.000000  \n",
       "max    100.000000  106.000000     100.000000   75826.000000         34.000000  "
      ]
     },
     "execution_count": 329,
     "metadata": {},
     "output_type": "execute_result"
    }
   ],
   "source": [
    "#write out some stats using the describe method\n",
    "df[columns].describe()"
   ]
  },
  {
   "cell_type": "markdown",
   "metadata": {},
   "source": [
    "### Creation of an SQL Database for Storing Details of the Top 3 Teams\n",
    "\n",
    "Next, I create an SQL database of a subset of this data. \n",
    "\n",
    "I'm using sqlite3 to store this subset of data since there are less than 600 rows of data and additional software needs to be installed.\n",
    "\n",
    "The sql database is called permiership and the table is called top_3_teams"
   ]
  },
  {
   "cell_type": "code",
   "execution_count": 264,
   "metadata": {},
   "outputs": [],
   "source": [
    "import sqlite3 \n",
    "conn = sqlite3.connect('premiership.db') \n",
    "c = conn.cursor()"
   ]
  },
  {
   "cell_type": "code",
   "execution_count": 265,
   "metadata": {},
   "outputs": [],
   "source": [
    "#create table if doesn't exist\n",
    "try: \n",
    "    c.execute(''' \n",
    "        CREATE TABLE top_3_teams( \n",
    "            year INTEGER, \n",
    "            team TEXT, \n",
    "            rank INTEGER ) \n",
    "        ''')\n",
    "#if exist, detail contents of current table\n",
    "except:\n",
    "    c.execute('''DELETE FROM top_3_teams''')"
   ]
  },
  {
   "cell_type": "markdown",
   "metadata": {},
   "source": [
    "Next, I create two functions for inserting data into the sql database ('insert_team') and also for getting details back ('get_teams')"
   ]
  },
  {
   "cell_type": "code",
   "execution_count": 266,
   "metadata": {},
   "outputs": [],
   "source": [
    "def insert_team(year, team, rank): \n",
    "    c.execute(''' INSERT INTO top_3_teams (year, team, rank) VALUES(?, ?, ?) ''', (year, team, rank)) \n",
    "    conn.commit()"
   ]
  },
  {
   "cell_type": "code",
   "execution_count": 267,
   "metadata": {},
   "outputs": [],
   "source": [
    "def get_teams(): \n",
    "    c.execute('''SELECT * FROM top_3_teams''') \n",
    "    data = [] \n",
    "    for row in c.fetchall(): \n",
    "        data.append(row) \n",
    "    return data"
   ]
  },
  {
   "cell_type": "markdown",
   "metadata": {},
   "source": [
    "Next iterate through Dataframe, inserting data into the sqllte database using the function 'insert_team'"
   ]
  },
  {
   "cell_type": "code",
   "execution_count": 268,
   "metadata": {},
   "outputs": [],
   "source": [
    "for index, row in pd.DataFrame(df[df['rank'] <= 3])[['season','team','rank']].iterrows():\n",
    "    insert_team(row['season'], row['team'], row['rank'])"
   ]
  },
  {
   "cell_type": "code",
   "execution_count": 269,
   "metadata": {},
   "outputs": [],
   "source": [
    "#print(get_teams())"
   ]
  },
  {
   "cell_type": "markdown",
   "metadata": {},
   "source": [
    "## (2) Exploratory Data Analysis\n",
    "\n",
    "In the next section I'm going to examine the data to get a feel for the dataset and to start answering some of the questions I posed earlier on.\n"
   ]
  },
  {
   "cell_type": "markdown",
   "metadata": {},
   "source": [
    "### (a) Are some teams conistently better than others? \n",
    "\n",
    "#### Who Finishes in the Top Three of the Premiership Most Often?\n",
    "\n",
    "First I'm going to use the sqlite database to find the number of times a team has finished in the top 3 of the Premiership."
   ]
  },
  {
   "cell_type": "code",
   "execution_count": 270,
   "metadata": {},
   "outputs": [],
   "source": [
    "#use sql quiry to get the count of times teams have been in the top 3\n",
    "c.execute('''\n",
    "    SELECT team,count(team)\n",
    "    FROM top_3_teams\n",
    "    WHERE rank < 4\n",
    "    GROUP BY team\n",
    "    ORDER BY count(team) DESC\n",
    "    ''') \n",
    "\n",
    "#write this data out to two list; top_3_names and top_3_occurences\n",
    "top_3_names = [] \n",
    "top_3_occurences = []\n",
    "for row in c.fetchall(): \n",
    "    top_3_names.append(row[0])\n",
    "    top_3_occurences.append(row[1])"
   ]
  },
  {
   "cell_type": "code",
   "execution_count": 355,
   "metadata": {},
   "outputs": [
    {
     "data": {
      "image/png": "[encoded data removed]",
      "text/plain": [
       "<Figure size 576x432 with 1 Axes>"
      ]
     },
     "metadata": {
      "needs_background": "light"
     },
     "output_type": "display_data"
    },
    {
     "name": "stdout",
     "output_type": "stream",
     "text": [
      "The teams which have been in the top 3 more than 5 times are: \n",
      "\n",
      " Manchester Utd  :  23 times =  79.0 % of the total number of seasons\n",
      " Chelsea  :  14 times =  48.0 % of the total number of seasons\n",
      " Arsenal  :  14 times =  48.0 % of the total number of seasons\n",
      " Liverpool  :  10 times =  34.0 % of the total number of seasons\n",
      " Manchester City  :  9 times =  31.0 % of the total number of seasons\n"
     ]
    }
   ],
   "source": [
    "# Next plot the data as a horizontal bar chart\n",
    "plt.figure(figsize=(8,6))\n",
    "\n",
    "plt.barh(y=top_3_names, width=top_3_occurences)\n",
    "plt.title('Number of Times Teams have been in the Top 3 of the Premiership',size = 15)\n",
    "plt.show()\n",
    "\n",
    "#and finally write out details for the teams who have appeared in the top 3 more than 5 times\n",
    "print('The teams which have been in the top 3 more than 5 times are: \\n')\n",
    "c.execute('''\n",
    "    SELECT team,count(team)\n",
    "    FROM top_3_teams\n",
    "    GROUP BY team\n",
    "    HAVING count(team) > 5\n",
    "    ORDER BY count(team) DESC\n",
    "    ''') \n",
    "for row in c.fetchall(): \n",
    "    print(row[0], ' : ',row[1],'times = ', round(row[1]/29*100,0), '% of the total number of seasons' )"
   ]
  },
  {
   "cell_type": "markdown",
   "metadata": {},
   "source": [
    "The top of the Premiership is dominated by the Big 5 Teams listed above. All have more than 8 top 3 finishes since 1992 with Manchester Utd having appeared in the top 3 almost 80% of the time."
   ]
  },
  {
   "cell_type": "markdown",
   "metadata": {},
   "source": [
    "#### Who Wins The Premiership? \n"
   ]
  },
  {
   "cell_type": "code",
   "execution_count": 23,
   "metadata": {},
   "outputs": [
    {
     "data": {
      "image/png": "[encoded data removed]",
      "text/plain": [
       "<Figure size 576x432 with 1 Axes>"
      ]
     },
     "metadata": {},
     "output_type": "display_data"
    }
   ],
   "source": [
    "# Number of time team has won  Premiershup ('winning_team')\n",
    "\n",
    "#create 'winning_team' table, counting how many time a team has \n",
    "# won the Premiership (i.e. their rank = 1)\n",
    "winning_team = pd.DataFrame(df[df['rank'] == 1]['team'].value_counts())\n",
    "winning_team['label'] = winning_team.index + ' - ' + winning_team['team'].astype(str) \n",
    "\n",
    "#create a pie-chart showing this data\n",
    "plt.figure(figsize=(8,6))\n",
    "plt.pie(winning_team['team'],labels = winning_team['label'])\n",
    "plt.title('Number of Times a Team has Won \\n the Premiership Since 1992',size = 15)\n",
    "plt.show()"
   ]
  },
  {
   "cell_type": "markdown",
   "metadata": {},
   "source": [
    "Manchester United has won the Premier League almost 50% of the time since 1992. \n",
    "\n",
    "Outside of the top 5 teams mentioned earlier, only Leicester City and Blackburn have also won the league.\n"
   ]
  },
  {
   "cell_type": "markdown",
   "metadata": {},
   "source": [
    "#### Which Team Has Scored the Most Goals During a Season? And Which has Conceed the Most?\n",
    "\n",
    "I'm going to use the Average goals per season to do this calculation. Displaying the top 6 teams."
   ]
  },
  {
   "cell_type": "code",
   "execution_count": 305,
   "metadata": {},
   "outputs": [
    {
     "name": "stdout",
     "output_type": "stream",
     "text": [
      "Average Number of Goals Scored Per Match, Averaged Across All Seasons\n"
     ]
    },
    {
     "data": {
      "text/html": [
       "<div>\n",
       "<style scoped>\n",
       "    .dataframe tbody tr th:only-of-type {\n",
       "        vertical-align: middle;\n",
       "    }\n",
       "\n",
       "    .dataframe tbody tr th {\n",
       "        vertical-align: top;\n",
       "    }\n",
       "\n",
       "    .dataframe thead tr th {\n",
       "        text-align: left;\n",
       "    }\n",
       "\n",
       "    .dataframe thead tr:last-of-type th {\n",
       "        text-align: right;\n",
       "    }\n",
       "</style>\n",
       "<table border=\"1\" class=\"dataframe\">\n",
       "  <thead>\n",
       "    <tr>\n",
       "      <th></th>\n",
       "      <th colspan=\"2\" halign=\"left\">av_goals_for_game</th>\n",
       "    </tr>\n",
       "    <tr>\n",
       "      <th></th>\n",
       "      <th>mean</th>\n",
       "      <th>count</th>\n",
       "    </tr>\n",
       "    <tr>\n",
       "      <th>team</th>\n",
       "      <th></th>\n",
       "      <th></th>\n",
       "    </tr>\n",
       "  </thead>\n",
       "  <tbody>\n",
       "    <tr>\n",
       "      <th>Manchester Utd</th>\n",
       "      <td>1.911341</td>\n",
       "      <td>28</td>\n",
       "    </tr>\n",
       "    <tr>\n",
       "      <th>Arsenal</th>\n",
       "      <td>1.774526</td>\n",
       "      <td>28</td>\n",
       "    </tr>\n",
       "    <tr>\n",
       "      <th>Liverpool</th>\n",
       "      <td>1.730532</td>\n",
       "      <td>28</td>\n",
       "    </tr>\n",
       "    <tr>\n",
       "      <th>Chelsea</th>\n",
       "      <td>1.714957</td>\n",
       "      <td>28</td>\n",
       "    </tr>\n",
       "    <tr>\n",
       "      <th>Manchester City</th>\n",
       "      <td>1.672769</td>\n",
       "      <td>23</td>\n",
       "    </tr>\n",
       "    <tr>\n",
       "      <th>Tottenham</th>\n",
       "      <td>1.495166</td>\n",
       "      <td>28</td>\n",
       "    </tr>\n",
       "  </tbody>\n",
       "</table>\n",
       "</div>"
      ],
      "text/plain": [
       "                 av_goals_for_game      \n",
       "                              mean count\n",
       "team                                    \n",
       " Manchester Utd           1.911341    28\n",
       " Arsenal                  1.774526    28\n",
       " Liverpool                1.730532    28\n",
       " Chelsea                  1.714957    28\n",
       " Manchester City          1.672769    23\n",
       " Tottenham                1.495166    28"
      ]
     },
     "execution_count": 305,
     "metadata": {},
     "output_type": "execute_result"
    }
   ],
   "source": [
    "print('Average Number of Goals Scored Per Match, Averaged Across All Seasons')\n",
    "df[['team', 'av_goals_for_game']].groupby(['team']).agg(['mean', 'count']).sort_values(('av_goals_for_game','mean'), ascending=False).head(6)"
   ]
  },
  {
   "cell_type": "code",
   "execution_count": 306,
   "metadata": {},
   "outputs": [
    {
     "name": "stdout",
     "output_type": "stream",
     "text": [
      "Average Number of Goals Conceeded Per Match, Averaged Across All Seasons\n"
     ]
    },
    {
     "data": {
      "text/html": [
       "<div>\n",
       "<style scoped>\n",
       "    .dataframe tbody tr th:only-of-type {\n",
       "        vertical-align: middle;\n",
       "    }\n",
       "\n",
       "    .dataframe tbody tr th {\n",
       "        vertical-align: top;\n",
       "    }\n",
       "\n",
       "    .dataframe thead tr th {\n",
       "        text-align: left;\n",
       "    }\n",
       "\n",
       "    .dataframe thead tr:last-of-type th {\n",
       "        text-align: right;\n",
       "    }\n",
       "</style>\n",
       "<table border=\"1\" class=\"dataframe\">\n",
       "  <thead>\n",
       "    <tr>\n",
       "      <th></th>\n",
       "      <th colspan=\"2\" halign=\"left\">av_goals_against_game</th>\n",
       "    </tr>\n",
       "    <tr>\n",
       "      <th></th>\n",
       "      <th>mean</th>\n",
       "      <th>count</th>\n",
       "    </tr>\n",
       "    <tr>\n",
       "      <th>team</th>\n",
       "      <th></th>\n",
       "      <th></th>\n",
       "    </tr>\n",
       "  </thead>\n",
       "  <tbody>\n",
       "    <tr>\n",
       "      <th>Manchester Utd</th>\n",
       "      <td>0.899123</td>\n",
       "      <td>28</td>\n",
       "    </tr>\n",
       "    <tr>\n",
       "      <th>Chelsea</th>\n",
       "      <td>0.977981</td>\n",
       "      <td>28</td>\n",
       "    </tr>\n",
       "    <tr>\n",
       "      <th>Arsenal</th>\n",
       "      <td>0.986887</td>\n",
       "      <td>28</td>\n",
       "    </tr>\n",
       "    <tr>\n",
       "      <th>Liverpool</th>\n",
       "      <td>1.000940</td>\n",
       "      <td>28</td>\n",
       "    </tr>\n",
       "    <tr>\n",
       "      <th>Manchester City</th>\n",
       "      <td>1.137736</td>\n",
       "      <td>23</td>\n",
       "    </tr>\n",
       "    <tr>\n",
       "      <th>Leeds United</th>\n",
       "      <td>1.227548</td>\n",
       "      <td>12</td>\n",
       "    </tr>\n",
       "  </tbody>\n",
       "</table>\n",
       "</div>"
      ],
      "text/plain": [
       "                 av_goals_against_game      \n",
       "                                  mean count\n",
       "team                                        \n",
       " Manchester Utd               0.899123    28\n",
       " Chelsea                      0.977981    28\n",
       " Arsenal                      0.986887    28\n",
       " Liverpool                    1.000940    28\n",
       " Manchester City              1.137736    23\n",
       " Leeds United                 1.227548    12"
      ]
     },
     "execution_count": 306,
     "metadata": {},
     "output_type": "execute_result"
    }
   ],
   "source": [
    "print('Average Number of Goals Conceeded Per Match, Averaged Across All Seasons')\n",
    "df[['team', 'av_goals_against_game']].groupby(['team']).agg(['mean', 'count']).sort_values(('av_goals_against_game','mean'), ascending=True).head(6)"
   ]
  },
  {
   "cell_type": "markdown",
   "metadata": {},
   "source": [
    "Maybe not unsurprisingly, the teams with the best goal scoring records are the top 5 teams mentioned earlier, each having scored an average of 1.5 goals per match averaged across the seasons. \n",
    "\n",
    "These same 5 teams also have let in the least number of goals per match, averaging less than 1.2\n",
    "\n",
    "Manchester United are top of the table for both of these parameters."
   ]
  },
  {
   "cell_type": "markdown",
   "metadata": {},
   "source": [
    "### (b) Is there a particular characteristic for the winning team?\n",
    "\n",
    "\n",
    "#### League Position va. Points 2019/20 Season"
   ]
  },
  {
   "cell_type": "code",
   "execution_count": 356,
   "metadata": {},
   "outputs": [
    {
     "data": {
      "image/png": "[encoded data removed]",
      "text/plain": [
       "<Figure size 576x288 with 1 Axes>"
      ]
     },
     "metadata": {
      "needs_background": "light"
     },
     "output_type": "display_data"
    }
   ],
   "source": [
    "#Create a new df ('df2019') for data from just the 2019/20 season.\n",
    "df2019 = df[df['season'] ==2019]\n",
    "\n",
    "#Plot the \n",
    "plt.figure(figsize=(8,4))\n",
    "plt.scatter(x=df2019['rank'],y=df2019['points'])\n",
    "plt.title('Leaugue Postion vs. Number of Points \\n 2019-2020 season',size = 15)\n",
    "plt.xlim(1, 18)\n",
    "plt.xlabel('League Poaition')\n",
    "plt.ylabel('Rank')\n",
    "plt.show()"
   ]
  },
  {
   "cell_type": "markdown",
   "metadata": {},
   "source": [
    "#### League Position va. Points Across all the Seasons"
   ]
  },
  {
   "cell_type": "code",
   "execution_count": 342,
   "metadata": {
    "scrolled": true
   },
   "outputs": [
    {
     "data": {
      "image/png": "[encoded data removed]",
      "text/plain": [
       "<Figure size 576x352.8 with 1 Axes>"
      ]
     },
     "metadata": {
      "needs_background": "light"
     },
     "output_type": "display_data"
    }
   ],
   "source": [
    "#Plotting average for each position in the league table\n",
    "plt.figure(figsize=(8,4.9))\n",
    "sns.boxplot(x=df['rank'],y=df['points'])\n",
    "\n",
    "#Plotting the 2019/20 points vs rank as red circles (out of interest)\n",
    "sns.swarmplot(x=df2019['rank'],y=df2019['points'],color='red',size = 10)\n",
    "\n",
    "plt.title('Leaugue Position vs. Number of Points \\n 1992 to 2019',size = 15)\n",
    "plt.xlabel('League Position')\n",
    "plt.ylabel('Points')\n",
    "plt.show()"
   ]
  },
  {
   "cell_type": "markdown",
   "metadata": {},
   "source": [
    "comments on the above"
   ]
  },
  {
   "cell_type": "markdown",
   "metadata": {},
   "source": [
    "#### Goal Difference "
   ]
  },
  {
   "cell_type": "code",
   "execution_count": 341,
   "metadata": {},
   "outputs": [
    {
     "data": {
      "image/png": "[encoded data removed]",
      "text/plain": [
       "<Figure size 576x352.8 with 1 Axes>"
      ]
     },
     "metadata": {
      "needs_background": "light"
     },
     "output_type": "display_data"
    }
   ],
   "source": [
    "# Plot Average Goal Difference Per Game\n",
    "plt.figure(figsize=(8,4.9))\n",
    "sns.boxplot(x=df['rank'],y=df['av_goal_diff'])\n",
    "\n",
    "plt.title('Leaugue Postion vs. Average Goals Differemce Per Game \\n 1992 to 2019',size = 15)\n",
    "plt.xlabel('League Poaition')\n",
    "plt.ylabel('Goals Scored')\n",
    "plt.xlim(0.5, 19.5)\n",
    "plt.show()"
   ]
  },
  {
   "cell_type": "markdown",
   "metadata": {},
   "source": [
    "#### Statistics for the Winning Premiership Team\n",
    "\n",
    "I'm going to create a sub-dataframe for teams which have won the premiership, called winners and use this to calculate the average statistics for the winning team."
   ]
  },
  {
   "cell_type": "code",
   "execution_count": 277,
   "metadata": {
    "scrolled": true
   },
   "outputs": [
    {
     "data": {
      "text/plain": [
       "season                    2005.500000\n",
       "rank                         1.000000\n",
       "games                       38.428571\n",
       "wins                        26.678571\n",
       "losses                       4.285714\n",
       "draws                        7.464286\n",
       "goals_for                   81.250000\n",
       "goals_against               32.178571\n",
       "goal_diff                   49.071429\n",
       "points                      87.500000\n",
       "av_attendance            50791.642857\n",
       "top_scorer_goals            20.892857\n",
       "win%                        69.508593\n",
       "losses%                     11.126029\n",
       "draws%                      19.365378\n",
       "av_points_game               2.278912\n",
       "av_goals_for_game            2.117839\n",
       "av_goal_diff                 1.280702\n",
       "av_goals_against_game        0.837137\n",
       "av_top_scorer_goals          0.543815\n",
       "dtype: float64"
      ]
     },
     "execution_count": 277,
     "metadata": {},
     "output_type": "execute_result"
    }
   ],
   "source": [
    "winners = df[df['rank'] == 1]\n",
    "np.mean(winners)"
   ]
  },
  {
   "cell_type": "markdown",
   "metadata": {},
   "source": [
    "The average team winning the Premier League wins 69% of matches, scoring a net average of +1.28 goals per gamne. They loss on average only 11% of their matches during that season.\n",
    "\n",
    "#### How much does a team win by?"
   ]
  },
  {
   "cell_type": "code",
   "execution_count": 282,
   "metadata": {},
   "outputs": [
    {
     "name": "stdout",
     "output_type": "stream",
     "text": [
      "Avergae number of points between 1st and 2nd teams in Premiership\n"
     ]
    },
    {
     "data": {
      "text/plain": [
       "7.178571428571431"
      ]
     },
     "execution_count": 282,
     "metadata": {},
     "output_type": "execute_result"
    }
   ],
   "source": [
    "print('Average number of points between 1st and 2nd teams in Premiership')\n",
    "df[df['rank'] == 1]['points'].mean() - df[df['rank'] == 2]['points'].mean()"
   ]
  },
  {
   "cell_type": "code",
   "execution_count": 284,
   "metadata": {},
   "outputs": [
    {
     "name": "stdout",
     "output_type": "stream",
     "text": [
      "Average number of points between 1st and 3rd place team in Premiership\n"
     ]
    },
    {
     "data": {
      "text/plain": [
       "13.642857142857139"
      ]
     },
     "execution_count": 284,
     "metadata": {},
     "output_type": "execute_result"
    }
   ],
   "source": [
    "print('Average number of points between 1st and 3rd place team in Premiership')\n",
    "\n",
    "df[df['rank'] == 1]['points'].mean() - df[df['rank'] == 3]['points'].mean()"
   ]
  },
  {
   "cell_type": "markdown",
   "metadata": {},
   "source": [
    "#### Is there a relationship between finishing position and number of goals scored by the top scorer in the team?"
   ]
  },
  {
   "cell_type": "code",
   "execution_count": 395,
   "metadata": {},
   "outputs": [
    {
     "data": {
      "image/png": "[encoded data removed]",
      "text/plain": [
       "<Figure size 576x360 with 1 Axes>"
      ]
     },
     "metadata": {
      "needs_background": "light"
     },
     "output_type": "display_data"
    }
   ],
   "source": [
    "#Create a new df ('df2019') for data from just the 2019/20 season.\n",
    "\n",
    "#Plot the \n",
    "plt.figure(figsize=(8,5))\n",
    "sns.boxplot(x=df['rank'],y=df['top_scorer_goals'])\n",
    "plt.title('Leaugue Postion vs. Number of Goals Scored \\nby the Top Scorer in the Team',size = 15)\n",
    "plt.xlim(-0.5, 19.5)\n",
    "plt.xlabel('League Poaition')\n",
    "plt.ylabel('Number of Goals Scored \\nby the Top Scorer in the Team')\n",
    "plt.show()"
   ]
  },
  {
   "cell_type": "markdown",
   "metadata": {},
   "source": [
    "There is a correlation between a team's finishing position and the number of goals scored by the top scorer in a given team.\n",
    "\n",
    "In the top team, the top scorer of that team on average scores 20 goals in a season. by comparisons for teams finishing outside the top 5 the average is less than 14.\n",
    "\n",
    "Having a prolic goal scoring is a characteristic of success in the premiership."
   ]
  },
  {
   "cell_type": "markdown",
   "metadata": {},
   "source": [
    "### Average Attendence at Home Stadium\n",
    "\n",
    "Is the attendence at the Stadium a good indicator of where you will finish in the league?"
   ]
  },
  {
   "cell_type": "code",
   "execution_count": 391,
   "metadata": {},
   "outputs": [
    {
     "data": {
      "image/png": "[encoded data removed]",
      "text/plain": [
       "<Figure size 576x360 with 1 Axes>"
      ]
     },
     "metadata": {
      "needs_background": "light"
     },
     "output_type": "display_data"
    },
    {
     "name": "stdout",
     "output_type": "stream",
     "text": [
      "For the winning team, rank = 1\n"
     ]
    },
    {
     "data": {
      "text/plain": [
       "count       28.000000\n",
       "mean     50791.642857\n",
       "std      15024.890690\n",
       "min      25151.000000\n",
       "25%      41317.500000\n",
       "50%      45645.500000\n",
       "75%      58263.250000\n",
       "max      75826.000000\n",
       "Name: av_attendance, dtype: float64"
      ]
     },
     "execution_count": 391,
     "metadata": {},
     "output_type": "execute_result"
    }
   ],
   "source": [
    "plt.figure(figsize=(8,5))\n",
    "\n",
    "sns.boxplot(x=df['rank'],y=df['av_attendance'])\n",
    "\n",
    "plt.title('Leaugue Postion vs. Average Attendence \\n 1992 to 2019')\n",
    "plt.xlabel('League Position')\n",
    "plt.xlim(-0.5,19.5)\n",
    "plt.ylabel('Average Attendence')\n",
    "plt.show()\n",
    "print('For the winning team, rank = 1')\n",
    "df[df['rank'] == 1]['av_attendance'].astype(int).describe()"
   ]
  },
  {
   "cell_type": "markdown",
   "metadata": {},
   "source": [
    "Although there are large ranges to each data point, an increasing trend to higher average attendance can be onserved from rank 8 to 1. Teams ranked 9 and below generally have a consistent average attendance of around 25,000 people. \n",
    "\n",
    "The winning team has an average of over 50,000 people attending each match during their winning year.\n",
    "\n",
    "I will discuss potential future work relating to this plot latter on in my report."
   ]
  },
  {
   "cell_type": "code",
   "execution_count": 385,
   "metadata": {},
   "outputs": [
    {
     "data": {
      "text/plain": [
       "13.642857142857139"
      ]
     },
     "execution_count": 385,
     "metadata": {},
     "output_type": "execute_result"
    }
   ],
   "source": [
    "df[df['rank'] == 1]['points'].mean() - df[df['rank'] == 3]['points'].mean()"
   ]
  },
  {
   "cell_type": "markdown",
   "metadata": {},
   "source": [
    "### (c) Teams Preformance in Year Prior to Winning the Premiership\n",
    "\n",
    "#### Finishing Position in the Year Prior to the Premiership Win\n",
    "\n",
    "I create a new DataFrame by merging the 'winners' dataframe with the details for the previous season.\n",
    "\n",
    "This is achieved by using the 'previous_season_id' in the 'winners' dataframe and finding the matching 'id' for that season in the original 'df' dataframe."
   ]
  },
  {
   "cell_type": "code",
   "execution_count": 330,
   "metadata": {},
   "outputs": [
    {
     "data": {
      "text/html": [
       "<div>\n",
       "<style scoped>\n",
       "    .dataframe tbody tr th:only-of-type {\n",
       "        vertical-align: middle;\n",
       "    }\n",
       "\n",
       "    .dataframe tbody tr th {\n",
       "        vertical-align: top;\n",
       "    }\n",
       "\n",
       "    .dataframe thead th {\n",
       "        text-align: right;\n",
       "    }\n",
       "</style>\n",
       "<table border=\"1\" class=\"dataframe\">\n",
       "  <thead>\n",
       "    <tr style=\"text-align: right;\">\n",
       "      <th></th>\n",
       "      <th>team_y</th>\n",
       "      <th>season_y</th>\n",
       "      <th>rank_y</th>\n",
       "      <th>season_x</th>\n",
       "      <th>rank_x</th>\n",
       "      <th>points_x</th>\n",
       "      <th>goals_for_x</th>\n",
       "      <th>goals_against_x</th>\n",
       "    </tr>\n",
       "  </thead>\n",
       "  <tbody>\n",
       "    <tr>\n",
       "      <th>0</th>\n",
       "      <td>Liverpool</td>\n",
       "      <td>2019</td>\n",
       "      <td>1</td>\n",
       "      <td>2018</td>\n",
       "      <td>2</td>\n",
       "      <td>97</td>\n",
       "      <td>89</td>\n",
       "      <td>22</td>\n",
       "    </tr>\n",
       "    <tr>\n",
       "      <th>1</th>\n",
       "      <td>Manchester City</td>\n",
       "      <td>2018</td>\n",
       "      <td>1</td>\n",
       "      <td>2017</td>\n",
       "      <td>1</td>\n",
       "      <td>100</td>\n",
       "      <td>106</td>\n",
       "      <td>27</td>\n",
       "    </tr>\n",
       "    <tr>\n",
       "      <th>2</th>\n",
       "      <td>Manchester City</td>\n",
       "      <td>2017</td>\n",
       "      <td>1</td>\n",
       "      <td>2016</td>\n",
       "      <td>3</td>\n",
       "      <td>78</td>\n",
       "      <td>80</td>\n",
       "      <td>39</td>\n",
       "    </tr>\n",
       "  </tbody>\n",
       "</table>\n",
       "</div>"
      ],
      "text/plain": [
       "             team_y  season_y  rank_y  season_x  rank_x  points_x  \\\n",
       "0         Liverpool      2019       1      2018       2        97   \n",
       "1   Manchester City      2018       1      2017       1       100   \n",
       "2   Manchester City      2017       1      2016       3        78   \n",
       "\n",
       "   goals_for_x  goals_against_x  \n",
       "0           89               22  \n",
       "1          106               27  \n",
       "2           80               39  "
      ]
     },
     "execution_count": 330,
     "metadata": {},
     "output_type": "execute_result"
    }
   ],
   "source": [
    "# _KEY_\n",
    "# _y = Winning Year\n",
    "# _x = Year Prior to Win\n",
    "\n",
    "compared_years = pd.merge(df,winners,left_on='id', right_on='previous_season_id')\n",
    "compared_years[['team_y','season_y','rank_y','season_x','rank_x','points_x','goals_for_x', 'goals_against_x']].head(3)"
   ]
  },
  {
   "cell_type": "code",
   "execution_count": 345,
   "metadata": {},
   "outputs": [
    {
     "data": {
      "image/png": "[encoded data removed]",
      "text/plain": [
       "<Figure size 432x288 with 1 Axes>"
      ]
     },
     "metadata": {
      "needs_background": "light"
     },
     "output_type": "display_data"
    },
    {
     "data": {
      "text/html": [
       "<div>\n",
       "<style scoped>\n",
       "    .dataframe tbody tr th:only-of-type {\n",
       "        vertical-align: middle;\n",
       "    }\n",
       "\n",
       "    .dataframe tbody tr th {\n",
       "        vertical-align: top;\n",
       "    }\n",
       "\n",
       "    .dataframe thead th {\n",
       "        text-align: right;\n",
       "    }\n",
       "</style>\n",
       "<table border=\"1\" class=\"dataframe\">\n",
       "  <thead>\n",
       "    <tr style=\"text-align: right;\">\n",
       "      <th></th>\n",
       "      <th>team_x</th>\n",
       "      <th>season_y</th>\n",
       "      <th>rank_y</th>\n",
       "      <th>season_x</th>\n",
       "      <th>rank_x</th>\n",
       "      <th>points_x</th>\n",
       "      <th>goals_for_x</th>\n",
       "      <th>goals_against_x</th>\n",
       "    </tr>\n",
       "  </thead>\n",
       "  <tbody>\n",
       "    <tr>\n",
       "      <th>3</th>\n",
       "      <td>Chelsea</td>\n",
       "      <td>2016</td>\n",
       "      <td>1</td>\n",
       "      <td>2015</td>\n",
       "      <td>10</td>\n",
       "      <td>50</td>\n",
       "      <td>59</td>\n",
       "      <td>53</td>\n",
       "    </tr>\n",
       "    <tr>\n",
       "      <th>4</th>\n",
       "      <td>Leicester City</td>\n",
       "      <td>2015</td>\n",
       "      <td>1</td>\n",
       "      <td>2014</td>\n",
       "      <td>14</td>\n",
       "      <td>41</td>\n",
       "      <td>46</td>\n",
       "      <td>55</td>\n",
       "    </tr>\n",
       "  </tbody>\n",
       "</table>\n",
       "</div>"
      ],
      "text/plain": [
       "            team_x  season_y  rank_y  season_x  rank_x  points_x  goals_for_x  \\\n",
       "3          Chelsea      2016       1      2015      10        50           59   \n",
       "4   Leicester City      2015       1      2014      14        41           46   \n",
       "\n",
       "   goals_against_x  \n",
       "3               53  \n",
       "4               55  "
      ]
     },
     "execution_count": 345,
     "metadata": {},
     "output_type": "execute_result"
    }
   ],
   "source": [
    "# Rank in Year Before Premiership Win\n",
    "bins = np.arange(0.5, 15.5, 1)\n",
    "plt.hist(compared_years['rank_x'],bins=bins,width = 0.9)\n",
    "plt.title('Rank of Team in the Year \\nProceeding the Premiership Title',size = 15)\n",
    "plt.xlim(0,15)\n",
    "plt.show()\n",
    "\n",
    "#list all team which were outside of the top 3 in the proceeding year\n",
    "compared_years[compared_years['rank_x'] > 3][['team_x','season_y','rank_y','season_x','rank_x','points_x','goals_for_x', 'goals_against_x']]"
   ]
  },
  {
   "cell_type": "markdown",
   "metadata": {},
   "source": [
    "The majority of teams that go on to win the Premiership finished in the top 3 in the proceeding year (25 out of 27). The two exceptions to this rule were Chealsea in 2016 and Leicester City in 2015, both who were outside of the top 10 the year before.\n",
    "\n",
    "### Change in Goals Scored/For and Conceeded/Against Between (Year Before Win) and  (Year of Win)\n",
    "\n",
    "In the next section I am going to calculate the difference between the winning year and the proceeding year (Winning Year - Proceeding Year), for the following variables:\n",
    "- Goals For / Goals scored :  'goals_for_dif' \n",
    "- Goals Against / Goals conceeded :  'goals_against_dif'\n",
    "- Number of Goals Scored by the Top Scorer in the Squad : 'top_scorer_goals_dif'"
   ]
  },
  {
   "cell_type": "code",
   "execution_count": 348,
   "metadata": {},
   "outputs": [
    {
     "data": {
      "text/html": [
       "<div>\n",
       "<style scoped>\n",
       "    .dataframe tbody tr th:only-of-type {\n",
       "        vertical-align: middle;\n",
       "    }\n",
       "\n",
       "    .dataframe tbody tr th {\n",
       "        vertical-align: top;\n",
       "    }\n",
       "\n",
       "    .dataframe thead th {\n",
       "        text-align: right;\n",
       "    }\n",
       "</style>\n",
       "<table border=\"1\" class=\"dataframe\">\n",
       "  <thead>\n",
       "    <tr style=\"text-align: right;\">\n",
       "      <th></th>\n",
       "      <th>goals_for_dif</th>\n",
       "      <th>goals_against_dif</th>\n",
       "      <th>top_scorer_goals_dif</th>\n",
       "    </tr>\n",
       "  </thead>\n",
       "  <tbody>\n",
       "    <tr>\n",
       "      <th>count</th>\n",
       "      <td>27.000000</td>\n",
       "      <td>27.000000</td>\n",
       "      <td>27.000000</td>\n",
       "    </tr>\n",
       "    <tr>\n",
       "      <th>mean</th>\n",
       "      <td>6.925926</td>\n",
       "      <td>-1.074074</td>\n",
       "      <td>2.037037</td>\n",
       "    </tr>\n",
       "    <tr>\n",
       "      <th>std</th>\n",
       "      <td>15.706260</td>\n",
       "      <td>9.992020</td>\n",
       "      <td>6.041405</td>\n",
       "    </tr>\n",
       "    <tr>\n",
       "      <th>min</th>\n",
       "      <td>-18.000000</td>\n",
       "      <td>-20.000000</td>\n",
       "      <td>-13.000000</td>\n",
       "    </tr>\n",
       "    <tr>\n",
       "      <th>25%</th>\n",
       "      <td>-4.000000</td>\n",
       "      <td>-9.000000</td>\n",
       "      <td>-0.500000</td>\n",
       "    </tr>\n",
       "    <tr>\n",
       "      <th>50%</th>\n",
       "      <td>5.000000</td>\n",
       "      <td>2.000000</td>\n",
       "      <td>3.000000</td>\n",
       "    </tr>\n",
       "    <tr>\n",
       "      <th>75%</th>\n",
       "      <td>17.000000</td>\n",
       "      <td>7.500000</td>\n",
       "      <td>6.000000</td>\n",
       "    </tr>\n",
       "    <tr>\n",
       "      <th>max</th>\n",
       "      <td>36.000000</td>\n",
       "      <td>11.000000</td>\n",
       "      <td>14.000000</td>\n",
       "    </tr>\n",
       "  </tbody>\n",
       "</table>\n",
       "</div>"
      ],
      "text/plain": [
       "       goals_for_dif  goals_against_dif  top_scorer_goals_dif\n",
       "count      27.000000          27.000000             27.000000\n",
       "mean        6.925926          -1.074074              2.037037\n",
       "std        15.706260           9.992020              6.041405\n",
       "min       -18.000000         -20.000000            -13.000000\n",
       "25%        -4.000000          -9.000000             -0.500000\n",
       "50%         5.000000           2.000000              3.000000\n",
       "75%        17.000000           7.500000              6.000000\n",
       "max        36.000000          11.000000             14.000000"
      ]
     },
     "execution_count": 348,
     "metadata": {},
     "output_type": "execute_result"
    }
   ],
   "source": [
    "#Calculate Increase (or Decrease) in Goals SCORED between Proceeding Year and Winning Year\n",
    "compared_years['goals_for_dif'] = compared_years['goals_for_y'] - compared_years['goals_for_x']\n",
    "\n",
    "#Calculate Increase (or Decrease) in Goals CONCEEDED between Proceeding Year and Winning Year\n",
    "compared_years['goals_against_dif'] = compared_years['goals_against_y'] - compared_years['goals_against_x']\n",
    "\n",
    "#Calculate Increase (or Decrease) in Top Scorers NUmber of Goals between Proceeding Year and Winning Year\n",
    "compared_years['top_scorer_goals_dif'] = compared_years['top_scorer_goals_y'] - compared_years['top_scorer_goals_x']\n",
    "\n",
    "#Show Stats for this new data\n",
    "compared_years[['goals_for_dif', 'goals_against_dif', 'top_scorer_goals_dif']].describe()"
   ]
  },
  {
   "cell_type": "code",
   "execution_count": 352,
   "metadata": {},
   "outputs": [
    {
     "data": {
      "image/png": "[encoded data removed]",
      "text/plain": [
       "<Figure size 432x288 with 1 Axes>"
      ]
     },
     "metadata": {
      "needs_background": "light"
     },
     "output_type": "display_data"
    }
   ],
   "source": [
    "# Plot increase (or Decrease) in Number of Goals Scored Between Proceeding Year and Winning Year\n",
    "bins = np.arange(-20,40,10)\n",
    "plt.hist(compared_years['goals_for_dif'],bins=bins,width = 9.8)\n",
    "plt.title('Change in Number of Goals Scored Between \\nYear Before, and Year of, Premiership Title',size = 15)\n",
    "plt.show()"
   ]
  },
  {
   "cell_type": "code",
   "execution_count": 353,
   "metadata": {},
   "outputs": [
    {
     "data": {
      "image/png": "[encoded data removed]",
      "text/plain": [
       "<Figure size 432x288 with 1 Axes>"
      ]
     },
     "metadata": {
      "needs_background": "light"
     },
     "output_type": "display_data"
    }
   ],
   "source": [
    "# Plot increase (or Decrease) in Number of Goals Conceed Between Proceeding Year and Winning Year\n",
    "bins = np.arange(-20,20,10)\n",
    "plt.hist(compared_years['goals_against_dif'],bins=bins,width = 9.8)\n",
    "plt.title('Change in Number of Goals Conceeded Between \\nYear Before, and Year of, Premiership Title',size = 15)\n",
    "\n",
    "plt.show()"
   ]
  },
  {
   "cell_type": "markdown",
   "metadata": {},
   "source": [
    "Interestingly, the team winning the Premiership on average hasn't shown evidence for conceeding less goals in a winnng year. There is a mean decrease of conceeded just 1 less goal compared to the season before. As seen in the graph above, just over 50% of winners actually let in more goals during a Premiership winning year.\n",
    "\n",
    "The main improvement is actually in the number of goals being scored. On average teams are scoring almost 7 more goals in a winning year compared to the year before, although there is a large range.\n",
    "\n",
    "The top scorer in the team increases their total by an average of 2 goals, suggesting that the improve in number of goals being scored is a squad wide scoring effect and not just the result of one key goal-scoring player."
   ]
  },
  {
   "cell_type": "markdown",
   "metadata": {},
   "source": [
    "## Future Work\n",
    "\n",
    "(1) Find further data which evaluates characteristics of the players (e.g. passes, tackles, etc) and the manager. Do these reveal more characteristics of the winning team? What about the consistency of the manager?\n",
    "\n",
    "(1) There was evidence that the larger the attendance, the better ranked a team was in the Premiership. This would be interesting to investigate further. Higher attendance is likely to result in higher revenue for the club. Do the teams with the larger stadiums/attendance have more money to spend on players? Would this imply that lower ranked teams could improve their position in the league by having larger stadiums and more income to spend on players?\n",
    "\n",
    "(2) Is it possible to create a model which will predict a teams position in the league based on past performance? Test using characteristics of the data from the year before, e.g. staidum size, goals scored, league position to model the position of the team in the following year via linear regression techniques. \n",
    "\n",
    "## Conclusions\n",
    "\n",
    "The top of the Premiership is dominated by a group of 5 teams; Manchester United, Manchester City, Liverpool, Chelsea and Arsenal. Manchester United has won the league almost 50% of the time since 1992, only Leicester City and Blackburn have won the league outside of this group of 5. \n",
    "\n",
    "On average the winning team gains an average of 85 points, 7 more than the team which finishes second and almost 14 more than the team which finishes third. The champions on average win 69% of the games they play and loss only 11% of the time. The top teams on average also have the top goal-scorers.\n",
    "\n",
    "Teams which win the Premiership generally finish near the top of the league the year before. 93% finished in the top 3 during the proceeding season. The difference in performance between the year in which a team wins the Premiership and the proceeding year appears to be mainly due to an increased ability to score more goals rather than any improvement in defensive performance.\n",
    "\n",
    "Finally, there may be a general correlation between stadium size and a teams position in the league table. I speculate that the increased income from the gate recepts is enabling teams to spend more money on attracting and retaining the best talent. This requires further investigation."
   ]
  },
  {
   "cell_type": "markdown",
   "metadata": {},
   "source": [
    "## References\n",
    "\n",
    "(1) \"History and time are key to power of football.\" Times [London, England], 2 July 2013, p. 6. Gale Academic OneFile, https://link.gale.com/apps/doc/A335583281/AONE?u=ull_ttda&sid=AONE&xid=7bc50674. Accessed 15 Nov. 2020.\n",
    "\n",
    "(2) \"Eighteen clubs support breakaway proposals; Football.\" Times [London, England], 14 June 1991. Gale Academic OneFile, https://link.gale.com/apps/doc/A116743308/AONE?u=ull_ttda&sid=AONE&xid=8d33c4d0. Accessed 15 Nov. 2020.\n",
    "\n",
    "(3) Baker and McHale (2015), Time varying ratings in association football: the all-time greatest team is..., Journal of the Royal Statistical Society. Series A (Statistics in Society) Vol. 178, No. 2, pp. 481-492.\n",
    "\n",
    "(4) Beautiful Soup 4.9.0 Documentation. https://www.crummy.com/software/BeautifulSoup/bs4/doc/ \n",
    "\n",
    "(5) Pandas documnetation. https://pandas.pydata.org/pandas-docs/stable/\n",
    "\n",
    "(6) Regular Expressions (Regex) manual for Python. https://docs.python.org/3/howto/regex.html\n",
    "\n",
    "(7) Matplotlib documentation: https://matplotlib.org/3.1.1/contents.html\n",
    "\n",
    "(8) Seaborn documentation: https://seaborn.pydata.org\n",
    "\n",
    "(9) Numpy documentation: https://numpy.org/doc/"
   ]
  }
 ],
 "metadata": {
  "kernelspec": {
   "display_name": "Python 3",
   "language": "python",
   "name": "python3"
  },
  "language_info": {
   "codemirror_mode": {
    "name": "ipython",
    "version": 3
   },
   "file_extension": ".py",
   "mimetype": "text/x-python",
   "name": "python",
   "nbconvert_exporter": "python",
   "pygments_lexer": "ipython3",
   "version": "3.7.7"
  }
 },
 "nbformat": 4,
 "nbformat_minor": 4
}
